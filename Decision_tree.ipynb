{
 "cells": [
  {
   "cell_type": "markdown",
   "id": "sapphire-sauce",
   "metadata": {},
   "source": [
    "# Домашняя работа (решающее дерево)"
   ]
  },
  {
   "cell_type": "markdown",
   "id": "fantastic-trader",
   "metadata": {},
   "source": [
    "### 1. В коде из методички реализуйте один или несколько из критериев останова (количество листьев, количество используемых признаков, глубина дерева и т.д.)."
   ]
  },
  {
   "cell_type": "code",
   "execution_count": 103,
   "id": "wicked-auckland",
   "metadata": {},
   "outputs": [],
   "source": [
    "from sklearn import datasets\n",
    "from sklearn import model_selection\n",
    "import numpy as np"
   ]
  },
  {
   "cell_type": "code",
   "execution_count": 104,
   "id": "lightweight-buyer",
   "metadata": {},
   "outputs": [],
   "source": [
    "class Node:\n",
    "    \n",
    "    def __init__(self, index, t, true_branch, false_branch):\n",
    "        self.index = index  # индекс признака, по которому ведется сравнение с порогом в этом узле\n",
    "        self.t = t  # значение порога\n",
    "        self.true_branch = true_branch  # поддерево, удовлетворяющее условию в узле\n",
    "        self.false_branch = false_branch  # поддерево, не удовлетворяющее условию в узле"
   ]
  },
  {
   "cell_type": "code",
   "execution_count": 105,
   "id": "molecular-bridge",
   "metadata": {
    "code_folding": [
     0
    ],
    "run_control": {
     "marked": true
    }
   },
   "outputs": [],
   "source": [
    "class Leaf:\n",
    "\n",
    "    def __init__(self, data, labels):\n",
    "        self.data = data\n",
    "        self.labels = labels\n",
    "        self.prediction = self.predict()\n",
    "\n",
    "    def predict(self):\n",
    "        pass"
   ]
  },
  {
   "cell_type": "code",
   "execution_count": 106,
   "id": "center-organizer",
   "metadata": {
    "code_folding": [
     0
    ]
   },
   "outputs": [],
   "source": [
    "class ClassificationLeaf(Leaf):\n",
    "    def __init__(self, data, labels):\n",
    "        super(ClassificationLeaf, self).__init__(data, labels)\n",
    "\n",
    "    def predict(self):\n",
    "        classes = get_count_label(self.labels)\n",
    "        prediction = max(classes, key=classes.get)\n",
    "        return prediction"
   ]
  },
  {
   "cell_type": "code",
   "execution_count": 107,
   "id": "toxic-helping",
   "metadata": {},
   "outputs": [],
   "source": [
    "def get_count_label(labels):\n",
    "    total_count_classes = np.unique(labels)\n",
    "    classes = {}\n",
    "    for class_ in total_count_classes:\n",
    "        classes[class_] = len(labels[labels == class_])\n",
    "    return classes"
   ]
  },
  {
   "cell_type": "code",
   "execution_count": 108,
   "id": "unknown-opportunity",
   "metadata": {
    "code_folding": [
     0
    ]
   },
   "outputs": [],
   "source": [
    "class Quality:\n",
    "    def __init__(self, inform_criterion_method='gini'):\n",
    "        if inform_criterion_method == 'gini':\n",
    "            self.inform_criterion_method = self.gini\n",
    "\n",
    "    # Расчет качества\n",
    "    def quality(self, left_labels: np.array, right_labels: np.array, current_information_criterion: float):\n",
    "        # доля выбоки, ушедшая в левое поддерево\n",
    "        p = float(left_labels.shape[0]) / (left_labels.shape[0] + right_labels.shape[0])\n",
    "\n",
    "        return current_information_criterion - p * self.inform_criterion_method(left_labels) - \\\n",
    "               (1 - p) * self.inform_criterion_method(right_labels)\n",
    "\n",
    "    def gini(cls, labels):\n",
    "        #  подсчет количества объектов разных классов\n",
    "        classes = get_count_label(labels)\n",
    "\n",
    "        #  расчет критерия\n",
    "        impurity = 1\n",
    "        for label in classes:\n",
    "            p = classes[label] / len(labels)\n",
    "            impurity -= p ** 2\n",
    "\n",
    "        return impurity"
   ]
  },
  {
   "cell_type": "code",
   "execution_count": 109,
   "id": "logical-mainland",
   "metadata": {
    "code_folding": [
     0
    ]
   },
   "outputs": [],
   "source": [
    "class DecisionTree:\n",
    "    def __init__(self, quality: Quality, min_leaf: int = 5, max_count_features=None, max_depth=None, max_leaves=None):\n",
    "        self.features = list()\n",
    "        self.min_leaf = min_leaf\n",
    "        self.quality = quality\n",
    "        self.tree = None\n",
    "        self.max_count_features = max_count_features\n",
    "        self.max_depth = max_depth\n",
    "        self.max_leaf = max_leaves\n",
    "        self.leaves_increase = 2\n",
    "        self.ClassLeaf = None\n",
    "\n",
    "    # Разбиение датасета в узле\n",
    "    @staticmethod\n",
    "    def __split(data, labels, index, t):\n",
    "        left = np.where(data[:, index] <= t)\n",
    "        right = np.where(data[:, index] > t)\n",
    "\n",
    "        true_data = data[left]\n",
    "        false_data = data[right]\n",
    "        true_labels = labels[left]\n",
    "        false_labels = labels[right]\n",
    "\n",
    "        return true_data, false_data, true_labels, false_labels\n",
    "\n",
    "    def __find_best_split(self, data, labels):\n",
    "        current_info_criterion = self.quality.inform_criterion_method(labels)\n",
    "\n",
    "        best_quality = 0\n",
    "        best_t = None\n",
    "        best_index = None\n",
    "\n",
    "        n_features = data.shape[1]\n",
    "\n",
    "        for index in range(n_features):\n",
    "            # будем проверять только уникальные значения признака, исключая повторения\n",
    "            t_values = np.unique(data[:, index])\n",
    "\n",
    "            for t in t_values:\n",
    "                true_data, false_data, true_labels, false_labels = self.__split(data, labels, index, t)\n",
    "                #  пропускаем разбиения, в которых в узле остается менее 5 объектов\n",
    "                if len(true_data) < self.min_leaf or len(false_data) < self.min_leaf:\n",
    "                    continue\n",
    "\n",
    "                current_quality = self.quality.quality(true_labels, false_labels, current_info_criterion)\n",
    "\n",
    "                #  выбираем порог, на котором получается максимальный прирост качества\n",
    "                if current_quality > best_quality:\n",
    "                    best_quality, best_t, best_index = current_quality, t, index\n",
    "\n",
    "        return best_quality, best_t, best_index\n",
    "\n",
    "    def __build_tree(self, data, labels, depth=0):\n",
    "        quality, t, index = self.__find_best_split(data, labels)\n",
    "\n",
    "        #  Базовый случай - прекращаем рекурсию, когда нет прироста в качества\n",
    "        if quality == 0:\n",
    "            return self.ClassLeaf(data, labels)\n",
    "\n",
    "        # Случай превышения максимального количества использованных фитчей\n",
    "        self.features.append(index)\n",
    "        if self.max_count_features and self.max_count_features < len(self.features):\n",
    "            return self.ClassLeaf(data, labels)\n",
    "\n",
    "        # Случай превышения максимального количества листьев в дереве\n",
    "        if self.max_leaf and self.max_leaf <= self.count_leafes:\n",
    "            return self.ClassLeaf(data, labels)\n",
    "\n",
    "        # Случай превышения максимальной глубины\n",
    "        if self.max_depth and self.max_depth <= depth:\n",
    "            return self.ClassLeaf(data, labels)\n",
    "\n",
    "        # узел не стал листом\n",
    "        self.count_leafes -= 1\n",
    "        true_data, false_data, true_labels, false_labels = self.__split(data, labels, index, t)\n",
    "\n",
    "        # Рекурсивно строим два поддерева\n",
    "        self.count_leafes += self.leaves_increase\n",
    "        true_branch = self.__build_tree(true_data, true_labels, depth=depth + 1)\n",
    "        self.count_leafes += self.leaves_increase\n",
    "        false_branch = self.__build_tree(false_data, false_labels, depth=depth + 1)\n",
    "\n",
    "        # Возвращаем класс узла со всеми поддеревьями, то есть целого дерева\n",
    "        return Node(index, t, true_branch, false_branch)\n",
    "\n",
    "    def fit(self, data, labels):\n",
    "        self.features = list()\n",
    "        self.count_leafes = 2\n",
    "        self.tree = self.__build_tree(data, labels)\n",
    "\n",
    "    def __predict_object(self, obj, node):\n",
    "        #  Останавливаем рекурсию, если достигли листа\n",
    "        if isinstance(node, self.ClassLeaf):\n",
    "            answer = node.prediction\n",
    "            return answer\n",
    "\n",
    "        if obj[node.index] <= node.t:\n",
    "            return self.__predict_object(obj, node.true_branch)\n",
    "        else:\n",
    "            return self.__predict_object(obj, node.false_branch)\n",
    "\n",
    "    def predict(self, data):\n",
    "        answers = []\n",
    "        for obj in data:\n",
    "            prediction = self.__predict_object(obj, self.tree)\n",
    "            answers.append(prediction)\n",
    "        return np.array(answers)"
   ]
  },
  {
   "cell_type": "code",
   "execution_count": 110,
   "id": "composed-express",
   "metadata": {
    "code_folding": [
     0
    ]
   },
   "outputs": [],
   "source": [
    "class DecisionTreeClassification(DecisionTree):\n",
    "    def __init__(self, quality: Quality, min_leaf: int = 5, max_count_features=None, max_depth=None, max_leaves=None):\n",
    "        super().__init__(quality, min_leaf, max_count_features, max_depth, max_leaves)\n",
    "        self.ClassLeaf = ClassificationLeaf"
   ]
  },
  {
   "cell_type": "markdown",
   "id": "finite-player",
   "metadata": {},
   "source": [
    "Проверка: "
   ]
  },
  {
   "cell_type": "code",
   "execution_count": 111,
   "id": "revolutionary-movie",
   "metadata": {},
   "outputs": [],
   "source": [
    "def accuracy(y: np.array, y_pred: np.array) -> float:\n",
    "    return y[y == y_pred].shape[0] / y.shape[0]"
   ]
  },
  {
   "cell_type": "code",
   "execution_count": 112,
   "id": "touched-verification",
   "metadata": {},
   "outputs": [],
   "source": [
    "classification_data, classification_labels = datasets.make_classification(n_samples=1000, n_features=7, n_informative=7,\n",
    "                                                                          n_classes=2, n_redundant=0,\n",
    "                                                                          n_clusters_per_class=1, random_state=17)\n",
    "train_data, test_data, train_labels, test_labels = model_selection.train_test_split(classification_data,\n",
    "                                                                                    classification_labels,\n",
    "                                                                                    test_size=0.3,\n",
    "                                                                                    random_state=1)\n"
   ]
  },
  {
   "cell_type": "code",
   "execution_count": 113,
   "id": "sunrise-particular",
   "metadata": {},
   "outputs": [
    {
     "data": {
      "text/plain": [
       "0.9385714285714286"
      ]
     },
     "execution_count": 113,
     "metadata": {},
     "output_type": "execute_result"
    }
   ],
   "source": [
    "model = DecisionTreeClassification(\n",
    "        Quality(inform_criterion_method='gini')\n",
    "    )\n",
    "model.fit(train_data, train_labels)\n",
    "accuracy(train_labels, model.predict(train_data))"
   ]
  },
  {
   "cell_type": "code",
   "execution_count": 114,
   "id": "constitutional-essence",
   "metadata": {},
   "outputs": [
    {
     "data": {
      "text/plain": [
       "0.74"
      ]
     },
     "execution_count": 114,
     "metadata": {},
     "output_type": "execute_result"
    }
   ],
   "source": [
    "model = DecisionTreeClassification(\n",
    "        Quality(inform_criterion_method='gini'),\n",
    "        max_depth=2\n",
    "    )\n",
    "model.fit(train_data, train_labels)\n",
    "accuracy(train_labels, model.predict(train_data))"
   ]
  },
  {
   "cell_type": "code",
   "execution_count": 115,
   "id": "analyzed-incentive",
   "metadata": {},
   "outputs": [
    {
     "data": {
      "text/plain": [
       "0.7585714285714286"
      ]
     },
     "execution_count": 115,
     "metadata": {},
     "output_type": "execute_result"
    }
   ],
   "source": [
    "model = DecisionTreeClassification(\n",
    "        Quality(inform_criterion_method='gini'),\n",
    "        max_count_features=5\n",
    "    )\n",
    "model.fit(train_data, train_labels)\n",
    "accuracy(train_labels, model.predict(train_data))"
   ]
  },
  {
   "cell_type": "code",
   "execution_count": 116,
   "id": "norwegian-personality",
   "metadata": {},
   "outputs": [
    {
     "data": {
      "text/plain": [
       "0.7328571428571429"
      ]
     },
     "execution_count": 116,
     "metadata": {},
     "output_type": "execute_result"
    }
   ],
   "source": [
    "model = DecisionTreeClassification(\n",
    "        Quality(inform_criterion_method='gini'),\n",
    "        max_leaves=3\n",
    "    )\n",
    "model.fit(train_data, train_labels)\n",
    "accuracy(train_labels, model.predict(train_data))"
   ]
  },
  {
   "cell_type": "markdown",
   "id": "individual-steal",
   "metadata": {},
   "source": [
    "### 2. Для задачи классификации обучить дерево решений с использованием критериев разбиения Джини и Энтропия. Сравнить качество классификации, сделать выводы."
   ]
  },
  {
   "cell_type": "markdown",
   "id": "million-woman",
   "metadata": {},
   "source": [
    "Перепишем класс Quality"
   ]
  },
  {
   "cell_type": "code",
   "execution_count": 117,
   "id": "skilled-terminology",
   "metadata": {
    "code_folding": [
     15
    ]
   },
   "outputs": [],
   "source": [
    "class Quality:\n",
    "    def __init__(self, inform_criterion_method='gini'):\n",
    "        if inform_criterion_method == 'gini':\n",
    "            self.inform_criterion_method = self.gini\n",
    "        if inform_criterion_method == 'entropy':\n",
    "            self.inform_criterion_method = self.entropy\n",
    "\n",
    "    # Расчет качества\n",
    "    def quality(self, left_labels: np.array, right_labels: np.array, current_information_criterion: float):\n",
    "        # доля выбоки, ушедшая в левое поддерево\n",
    "        p = float(left_labels.shape[0]) / (left_labels.shape[0] + right_labels.shape[0])\n",
    "\n",
    "        return current_information_criterion - p * self.inform_criterion_method(left_labels) - \\\n",
    "               (1 - p) * self.inform_criterion_method(right_labels)\n",
    "\n",
    "    def gini(cls, labels):\n",
    "        #  подсчет количества объектов разных классов\n",
    "        classes = get_count_label(labels)\n",
    "\n",
    "        #  расчет критерия\n",
    "        impurity = 1\n",
    "        for label in classes:\n",
    "            p = classes[label] / len(labels)\n",
    "            impurity -= p ** 2\n",
    "\n",
    "        return impurity\n",
    "\n",
    "    def entropy(cls, labels):\n",
    "        classes = get_count_label(labels)\n",
    "\n",
    "        result = 0\n",
    "        for label in classes:\n",
    "            p = classes[label] / len(labels)\n",
    "            result += p * np.log2(p)\n",
    "\n",
    "        return -result"
   ]
  },
  {
   "cell_type": "markdown",
   "id": "prescribed-melissa",
   "metadata": {},
   "source": [
    "Для начала проведем анализ результатов без использования регуляризации "
   ]
  },
  {
   "cell_type": "code",
   "execution_count": 118,
   "id": "royal-interference",
   "metadata": {
    "scrolled": true
   },
   "outputs": [
    {
     "name": "stdout",
     "output_type": "stream",
     "text": [
      "gini train = 0.9385714285714286\n",
      "gini test = 0.9033333333333333\n",
      "\n",
      "\n",
      "entropy train = 0.9542857142857143\n",
      "entropy test = 0.8933333333333333\n"
     ]
    }
   ],
   "source": [
    "gini_model = DecisionTreeClassification(\n",
    "        Quality(inform_criterion_method='gini'))\n",
    "gini_model.fit(train_data, train_labels)\n",
    "print(f'gini train = {accuracy(train_labels, gini_model.predict(train_data))}')\n",
    "print(f'gini test = {accuracy(test_labels, gini_model.predict(test_data))}')\n",
    "\n",
    "print('\\n')\n",
    "\n",
    "entropy_model = DecisionTreeClassification(\n",
    "    Quality(inform_criterion_method='entropy'))\n",
    "entropy_model.fit(train_data, train_labels)\n",
    "print(f'entropy train = {accuracy(train_labels, entropy_model.predict(train_data))}')\n",
    "print(f'entropy test = {accuracy(test_labels, entropy_model.predict(test_data))}')"
   ]
  },
  {
   "cell_type": "markdown",
   "id": "affecting-gardening",
   "metadata": {},
   "source": [
    "Видно, что на train модель с использованием критерия информативности Энтропия лучше, однако на test модель с критерием информативности Джини, показывает себя лучше. Теперь сделаем аналогичный анализ, только с использованием регуляризации"
   ]
  },
  {
   "cell_type": "code",
   "execution_count": 119,
   "id": "genetic-norfolk",
   "metadata": {},
   "outputs": [
    {
     "name": "stdout",
     "output_type": "stream",
     "text": [
      "gini train = 0.74\n",
      "gini test = 0.7533333333333333\n",
      "\n",
      "\n",
      "entropy train = 0.7242857142857143\n",
      "entropy test = 0.7333333333333333\n"
     ]
    }
   ],
   "source": [
    "gini_model = DecisionTreeClassification(\n",
    "        Quality(inform_criterion_method='gini'), max_depth=4, max_leaves=4)\n",
    "gini_model.fit(train_data, train_labels)\n",
    "print(f'gini train = {accuracy(train_labels, gini_model.predict(train_data))}')\n",
    "print(f'gini test = {accuracy(test_labels, gini_model.predict(test_data))}')\n",
    "\n",
    "print('\\n')\n",
    "\n",
    "entropy_model = DecisionTreeClassification(\n",
    "    Quality(inform_criterion_method='entropy'), max_depth=4, max_leaves=4)\n",
    "entropy_model.fit(train_data, train_labels)\n",
    "print(f'entropy train = {accuracy(train_labels, entropy_model.predict(train_data))}')\n",
    "print(f'entropy test = {accuracy(test_labels, entropy_model.predict(test_data))}')"
   ]
  },
  {
   "cell_type": "markdown",
   "id": "innovative-ferry",
   "metadata": {},
   "source": [
    "Видно, что при использовании регуляризации модель на основании критерия Джини ведет себя лучше"
   ]
  },
  {
   "cell_type": "markdown",
   "id": "retired-comparative",
   "metadata": {},
   "source": [
    "### 3 [опция]. Реализуйте дерево для задачи регрессии. Возьмите за основу дерево, реализованное в методичке, заменив механизм предсказания в листе на взятие среднего значения по выборке, и критерий Джини на дисперсию значений."
   ]
  },
  {
   "cell_type": "markdown",
   "id": "international-distribution",
   "metadata": {},
   "source": [
    "Для решения этой задачи нужно создать класс RegressionLeaf, унаследовав его от Leaf"
   ]
  },
  {
   "cell_type": "code",
   "execution_count": 120,
   "id": "elegant-montana",
   "metadata": {
    "code_folding": [
     0
    ]
   },
   "outputs": [],
   "source": [
    "class RegressionLeaf(Leaf):\n",
    "    def __init__(self, data, labels):\n",
    "        super(RegressionLeaf, self).__init__(data, labels)\n",
    "\n",
    "    def predict(self):\n",
    "        return np.mean(self.labels)"
   ]
  },
  {
   "cell_type": "markdown",
   "id": "specific-adams",
   "metadata": {},
   "source": [
    "Добавить новый информационный критерий \"дисперсия\" в класс Quality"
   ]
  },
  {
   "cell_type": "code",
   "execution_count": 121,
   "id": "sonic-sodium",
   "metadata": {
    "code_folding": [
     1,
     11,
     18,
     30
    ]
   },
   "outputs": [],
   "source": [
    "class Quality:\n",
    "    def __init__(self, inform_criterion_method='gini'):\n",
    "        if inform_criterion_method == 'gini':\n",
    "            self.inform_criterion_method = self.gini\n",
    "        if inform_criterion_method == 'entropy':\n",
    "            self.inform_criterion_method = self.entropy\n",
    "        if inform_criterion_method == 'variance':\n",
    "            self.inform_criterion_method = self.variance\n",
    "\n",
    "\n",
    "    # Расчет качества\n",
    "    def quality(self, left_labels: np.array, right_labels: np.array, current_information_criterion: float):\n",
    "        # доля выбоки, ушедшая в левое поддерево\n",
    "        p = float(left_labels.shape[0]) / (left_labels.shape[0] + right_labels.shape[0])\n",
    "\n",
    "        return current_information_criterion - p * self.inform_criterion_method(left_labels) - \\\n",
    "               (1 - p) * self.inform_criterion_method(right_labels)\n",
    "\n",
    "    def gini(cls, labels):\n",
    "        #  подсчет количества объектов разных классов\n",
    "        classes = get_count_label(labels)\n",
    "\n",
    "        #  расчет критерия\n",
    "        impurity = 1\n",
    "        for label in classes:\n",
    "            p = classes[label] / len(labels)\n",
    "            impurity -= p ** 2\n",
    "\n",
    "        return impurity\n",
    "\n",
    "    def entropy(cls, labels):\n",
    "        classes = get_count_label(labels)\n",
    "\n",
    "        result = 0\n",
    "        for label in classes:\n",
    "            p = classes[label] / len(labels)\n",
    "            result += p * np.log2(p)\n",
    "\n",
    "        return -result\n",
    "\n",
    "    def variance(cls, labels):\n",
    "        return np.var(labels)"
   ]
  },
  {
   "cell_type": "markdown",
   "id": "continental-phrase",
   "metadata": {},
   "source": [
    "И, наконец, создать класс DecisionTreeRegression унаследовав его от DecisionTree"
   ]
  },
  {
   "cell_type": "code",
   "execution_count": 122,
   "id": "tribal-trace",
   "metadata": {
    "code_folding": [
     0
    ]
   },
   "outputs": [],
   "source": [
    "class DecisionTreeRegression(DecisionTree):\n",
    "    def __init__(self, quality: Quality, min_leaf: int = 2, max_count_features=None, max_depth=None, max_leaves=None):\n",
    "        super(DecisionTreeRegression, self).__init__(quality, min_leaf, max_count_features, max_depth, max_leaves)\n",
    "        self.ClassLeaf = RegressionLeaf"
   ]
  },
  {
   "cell_type": "code",
   "execution_count": 123,
   "id": "determined-desktop",
   "metadata": {},
   "outputs": [],
   "source": [
    "regression_data, regression_labels, coef = datasets.make_regression(n_samples=1000, \n",
    "                                                              n_features=1, \n",
    "                                                              n_informative=1, \n",
    "                                                              n_targets=1, \n",
    "                                                              noise=5, \n",
    "                                                              coef=True, \n",
    "                                                              random_state=17)\n",
    "\n",
    "\n",
    "train_data, test_data, train_labels, test_labels = model_selection.train_test_split(regression_data,\n",
    "                                                                                    regression_labels,\n",
    "                                                                                    test_size=0.3,\n",
    "                                                                                    random_state=1)\n",
    "model = DecisionTreeRegression(Quality(inform_criterion_method='variance'), \n",
    "                               min_leaf=10, \n",
    "                               max_depth=6)\n",
    "model.fit(train_data, train_labels)\n"
   ]
  },
  {
   "cell_type": "code",
   "execution_count": 124,
   "id": "guilty-relative",
   "metadata": {},
   "outputs": [
    {
     "data": {
      "image/png": "[encoded data removed]",
      "text/plain": [
       "<Figure size 1600x600 with 1 Axes>"
      ]
     },
     "metadata": {},
     "output_type": "display_data"
    }
   ],
   "source": [
    "import matplotlib.pyplot as plt\n",
    "\n",
    "plt.figure(figsize=(16, 6))\n",
    "plt.scatter(train_data, train_labels)\n",
    "plt.scatter(train_data, model.predict(train_data))\n",
    "plt.show()"
   ]
  },
  {
   "cell_type": "markdown",
   "id": "tropical-iceland",
   "metadata": {},
   "source": [
    "На картинке отчетливо видны листья дерева"
   ]
  },
  {
   "cell_type": "code",
   "execution_count": null,
   "id": "weird-provider",
   "metadata": {},
   "outputs": [],
   "source": []
  }
 ],
 "metadata": {
  "kernelspec": {
   "display_name": "Python 3",
   "language": "python",
   "name": "python3"
  },
  "language_info": {
   "codemirror_mode": {
    "name": "ipython",
    "version": 3
   },
   "file_extension": ".py",
   "mimetype": "text/x-python",
   "name": "python",
   "nbconvert_exporter": "python",
   "pygments_lexer": "ipython3",
   "version": "3.8.5"
  },
  "nbTranslate": {
   "displayLangs": [
    "*"
   ],
   "hotkey": "alt-t",
   "langInMainMenu": true,
   "sourceLang": "en",
   "targetLang": "fr",
   "useGoogleTranslate": true
  }
 },
 "nbformat": 4,
 "nbformat_minor": 5
}
