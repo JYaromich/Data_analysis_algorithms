{
 "cells": [
  {
   "cell_type": "markdown",
   "id": "continued-phrase",
   "metadata": {},
   "source": [
    "# Домашняя работа (Линейная классификация)"
   ]
  },
  {
   "cell_type": "markdown",
   "id": "patent-european",
   "metadata": {},
   "source": [
    "Дано:"
   ]
  },
  {
   "cell_type": "code",
   "execution_count": 2,
   "id": "common-sitting",
   "metadata": {},
   "outputs": [],
   "source": [
    "import numpy as np\n",
    "import matplotlib.pyplot as plt"
   ]
  },
  {
   "cell_type": "code",
   "execution_count": 3,
   "id": "severe-grove",
   "metadata": {},
   "outputs": [],
   "source": [
    "X = np.array([[1, 1, 1, 1, 1, 1, 1, 1, 1, 1],\n",
    "              [1, 1, 2, 1, 3, 0, 5, 10, 1, 2],\n",
    "              [500, 700, 750, 600, 1450,\n",
    "               800, 1500, 2000, 450, 1000],\n",
    "              [1, 1, 2, 1, 2, 1, 3, 3, 1, 2]], dtype = np.float64)\n",
    "\n",
    "y = np.array([0, 0, 1, 0, 1, 0, 1, 0, 1, 1], dtype = np.float64)"
   ]
  },
  {
   "cell_type": "code",
   "execution_count": 4,
   "id": "written-programming",
   "metadata": {},
   "outputs": [
    {
     "data": {
      "text/plain": [
       "array([[1.00e+00, 1.00e+00, 5.00e+02, 1.00e+00],\n",
       "       [1.00e+00, 1.00e+00, 7.00e+02, 1.00e+00],\n",
       "       [1.00e+00, 2.00e+00, 7.50e+02, 2.00e+00],\n",
       "       [1.00e+00, 1.00e+00, 6.00e+02, 1.00e+00],\n",
       "       [1.00e+00, 3.00e+00, 1.45e+03, 2.00e+00],\n",
       "       [1.00e+00, 0.00e+00, 8.00e+02, 1.00e+00],\n",
       "       [1.00e+00, 5.00e+00, 1.50e+03, 3.00e+00],\n",
       "       [1.00e+00, 1.00e+01, 2.00e+03, 3.00e+00],\n",
       "       [1.00e+00, 1.00e+00, 4.50e+02, 1.00e+00],\n",
       "       [1.00e+00, 2.00e+00, 1.00e+03, 2.00e+00]])"
      ]
     },
     "execution_count": 4,
     "metadata": {},
     "output_type": "execute_result"
    }
   ],
   "source": [
    "X = X.T\n",
    "X"
   ]
  },
  {
   "cell_type": "code",
   "execution_count": 5,
   "id": "leading-attitude",
   "metadata": {},
   "outputs": [],
   "source": [
    "def calc_logloss(y, y_pred):\n",
    "    err = - np.mean(y * np.log(y_pred) + (1.0 - y) * np.log(1.0 - y_pred))\n",
    "    return err"
   ]
  },
  {
   "cell_type": "code",
   "execution_count": 6,
   "id": "sensitive-fluid",
   "metadata": {},
   "outputs": [],
   "source": [
    "def sigmoid(z):\n",
    "    res = 1 / (1 + np.exp(-z))\n",
    "    return res"
   ]
  },
  {
   "cell_type": "markdown",
   "id": "medieval-summer",
   "metadata": {},
   "source": [
    "## 1*. Измените функцию calc_logloss так, чтобы нули по возможности не попадали в np.log.  "
   ]
  },
  {
   "cell_type": "markdown",
   "id": "normal-renewal",
   "metadata": {},
   "source": [
    "В нашей задаче целевая переменная принимает значение от 0 до 1. Построим графики $f(x)=ln(x)$ в этом диапазоне"
   ]
  },
  {
   "cell_type": "code",
   "execution_count": 7,
   "id": "cardiac-qualification",
   "metadata": {},
   "outputs": [
    {
     "name": "stderr",
     "output_type": "stream",
     "text": [
      "<ipython-input-7-779c90293506>:4: RuntimeWarning: divide by zero encountered in log\n",
      "  plt.plot(x, np.log(x))\n"
     ]
    },
    {
     "data": {
      "image/png": "[encoded data removed]",
      "text/plain": [
       "<Figure size 576x288 with 1 Axes>"
      ]
     },
     "metadata": {
      "needs_background": "light"
     },
     "output_type": "display_data"
    }
   ],
   "source": [
    "x = np.linspace(0, 1, 1000)\n",
    "\n",
    "plt.figure(figsize=(8, 4))\n",
    "plt.plot(x, np.log(x))\n",
    "plt.xlabel('x')\n",
    "plt.ylabel('ln(x)')\n",
    "plt.show()"
   ]
  },
  {
   "cell_type": "markdown",
   "id": "western-keyboard",
   "metadata": {},
   "source": [
    "Видно, что логарифм натуральный в нуле стремится к бесконечности. Тогда для решения проблемы аппроксимации логарифма в нуле можно установить жесткую отрицательную константу, например -23, это значение соответствует $ln(10^{-10})$ что очень близко к 0. Для случая когда предсказание равно 1 и это правильный ответ, отнимем от 1 значение сдвига $10^{-10}$ Тогда можно переписать алгоритм расчета logloss"
   ]
  },
  {
   "cell_type": "code",
   "execution_count": 8,
   "id": "incorporated-prototype",
   "metadata": {},
   "outputs": [],
   "source": [
    "def calc_logloss_impr(y, y_pred):\n",
    "    y_pred = np.array(y_pred, dtype=float)\n",
    "    error = - (np.dot(y, np.nan_to_num(np.log(y_pred), neginf=-1e5)) + np.dot((1.0 - y), np.nan_to_num(np.log(1.0 - y_pred), neginf=-1e5)))\n",
    "    return error\n"
   ]
  },
  {
   "cell_type": "markdown",
   "id": "olympic-arrival",
   "metadata": {},
   "source": [
    "Проверим работу данного алгоритма"
   ]
  },
  {
   "cell_type": "code",
   "execution_count": 9,
   "id": "competitive-rhythm",
   "metadata": {},
   "outputs": [
    {
     "name": "stdout",
     "output_type": "stream",
     "text": [
      "Ошибка старого метода: nan\n",
      "Ошибка нового метода: 200000.0\n"
     ]
    },
    {
     "name": "stderr",
     "output_type": "stream",
     "text": [
      "<ipython-input-5-7d5907c1794a>:2: RuntimeWarning: divide by zero encountered in log\n",
      "  err = - np.mean(y * np.log(y_pred) + (1.0 - y) * np.log(1.0 - y_pred))\n",
      "<ipython-input-5-7d5907c1794a>:2: RuntimeWarning: invalid value encountered in multiply\n",
      "  err = - np.mean(y * np.log(y_pred) + (1.0 - y) * np.log(1.0 - y_pred))\n",
      "<ipython-input-8-6eea932e2396>:3: RuntimeWarning: divide by zero encountered in log\n",
      "  error = - (np.dot(y, np.nan_to_num(np.log(y_pred), neginf=-1e5)) + np.dot((1.0 - y), np.nan_to_num(np.log(1.0 - y_pred), neginf=-1e5)))\n"
     ]
    }
   ],
   "source": [
    "y_pred = np.array([1, 0, 0])\n",
    "y_test = np.array([1, 1, 1])\n",
    "\n",
    "print('Ошибка старого метода:', calc_logloss(y_test, y_pred))\n",
    "print('Ошибка нового метода:', calc_logloss_impr(y_test, y_pred))"
   ]
  },
  {
   "cell_type": "markdown",
   "id": "characteristic-cookbook",
   "metadata": {},
   "source": [
    "## 2. Подберите аргументы функции eval_model для логистической регрессии таким образом, чтобы log loss был минимальным."
   ]
  },
  {
   "cell_type": "markdown",
   "id": "fundamental-savings",
   "metadata": {},
   "source": [
    "**Дано:**"
   ]
  },
  {
   "cell_type": "code",
   "execution_count": 10,
   "id": "consistent-coordination",
   "metadata": {},
   "outputs": [],
   "source": [
    "def eval_model(X, y, iterations, alpha=1e-4, metric: callable = None):\n",
    "    np.random.seed(42)\n",
    "    W = np.random.randn(X.shape[0])\n",
    "    n = X.shape[1]\n",
    "    for i in range(1, iterations+1):\n",
    "        z = np.dot(W, X)\n",
    "        y_pred = sigmoid(z)\n",
    "        err = calc_logloss(y, y_pred)\n",
    "        W -= alpha * (1/n * np.dot((y_pred - y), X.T))\n",
    "    \n",
    "    if i % (iterations / 10) == 0:\n",
    "        print(i, W, err)\n",
    "        \n",
    "    return W"
   ]
  },
  {
   "cell_type": "code",
   "execution_count": 11,
   "id": "junior-variance",
   "metadata": {},
   "outputs": [
    {
     "name": "stdout",
     "output_type": "stream",
     "text": [
      "5000 [ 0.49314177 -0.14151841 -0.00414786  1.52547952] 0.8471318040263481\n"
     ]
    },
    {
     "name": "stderr",
     "output_type": "stream",
     "text": [
      "<ipython-input-5-7d5907c1794a>:2: RuntimeWarning: divide by zero encountered in log\n",
      "  err = - np.mean(y * np.log(y_pred) + (1.0 - y) * np.log(1.0 - y_pred))\n",
      "<ipython-input-5-7d5907c1794a>:2: RuntimeWarning: invalid value encountered in multiply\n",
      "  err = - np.mean(y * np.log(y_pred) + (1.0 - y) * np.log(1.0 - y_pred))\n"
     ]
    },
    {
     "data": {
      "text/plain": [
       "array([ 0.49314177, -0.14151841, -0.00414786,  1.52547952])"
      ]
     },
     "execution_count": 11,
     "metadata": {},
     "output_type": "execute_result"
    }
   ],
   "source": [
    "eval_model(X.T, y, iterations=5000, alpha=1e-5)\n"
   ]
  },
  {
   "cell_type": "markdown",
   "id": "champion-richardson",
   "metadata": {},
   "source": [
    "**Решение**. Для начала перепишем данную функцию используя критерий сходимости сходимости: \n",
    "\n",
    "$$||w^{k}-w^{k-1}|| < \\varepsilon.$$\n",
    "\n",
    "$$w^{k} = w^{k-1} - \\eta_{k}\\nabla Q(w^{k-1}, X).$$"
   ]
  },
  {
   "cell_type": "code",
   "execution_count": 12,
   "id": "mineral-daughter",
   "metadata": {},
   "outputs": [],
   "source": [
    "def eval_model_impr(X, y, \n",
    "                    iterations=5000, \n",
    "#                     alpha=1e-4, \n",
    "                    random_seed=17,\n",
    "                    epsilon=1e-5, \n",
    "                    metric=calc_logloss_impr, \n",
    "                    visualization=False, \n",
    "                    speed_divider=5, \n",
    "                    eta=0.1):\n",
    "       \n",
    "    np.random.seed(random_seed)\n",
    "    W_new = np.random.randn(X.shape[1])\n",
    "    n = X.shape[0]\n",
    "    err_list = list()\n",
    "    for i in range(1, iterations+1):\n",
    "        W_old = W_new\n",
    "        z = np.dot(X, W_old)\n",
    "        y_pred = sigmoid(z)\n",
    "        W_new = W_old - eta * (1 / n * np.dot((y_pred - y), X))\n",
    "        err_list.append(metric(y, y_pred))\n",
    "        \n",
    "        if i > 2:\n",
    "            if np.linalg.norm(W_new - W_old) < epsilon:\n",
    "                break\n",
    "        \n",
    "    min_error = metric(y, sigmoid(np.dot(X, W_new)))\n",
    "    if visualization:\n",
    "        steps = np.linspace(1, len(err_list)+1, len(err_list))\n",
    "        plt.figure(figsize=(8,6))\n",
    "        plt.scatter(steps, err_list, c='green')\n",
    "        plt.plot(steps, err_list, c='orange')\n",
    "        plt.xlabel('Steps')\n",
    "        plt.ylabel('Error')\n",
    "        plt.title(f'Min error is {min_error}')\n",
    "        plt.show()\n",
    "            \n",
    "    return W_new, min_error"
   ]
  },
  {
   "cell_type": "code",
   "execution_count": 13,
   "id": "unlimited-anime",
   "metadata": {},
   "outputs": [
    {
     "name": "stderr",
     "output_type": "stream",
     "text": [
      "<ipython-input-8-6eea932e2396>:3: RuntimeWarning: divide by zero encountered in log\n",
      "  error = - (np.dot(y, np.nan_to_num(np.log(y_pred), neginf=-1e5)) + np.dot((1.0 - y), np.nan_to_num(np.log(1.0 - y_pred), neginf=-1e5)))\n"
     ]
    },
    {
     "data": {
      "image/png": "[encoded data removed]",
      "text/plain": [
       "<Figure size 576x432 with 1 Axes>"
      ]
     },
     "metadata": {
      "needs_background": "light"
     },
     "output_type": "display_data"
    }
   ],
   "source": [
    "w, error = eval_model_impr(X, y, \n",
    "#                            alpha=1e-5, \n",
    "                           random_seed=42, epsilon=1e-5,  metric=calc_logloss_impr, visualization=True, \n",
    "                           eta=0.000005, \n",
    "                           speed_divider=10, iterations=5000)"
   ]
  },
  {
   "cell_type": "markdown",
   "id": "asian-ordering",
   "metadata": {},
   "source": [
    "В нашей реализации есть несколько гиперпараметров которые могут влиять на величину ошибки logloss. Самый очевидный это epsilon - он напрямую задает критерий сходимости, чем меньше величина epsilon, тем меньше будет ошибка. Второй - это скорость обучения alpha. Чем меньше скорость обучения, тем ниже вероятность того, что мы перепрыгнем точку минимума. Однако уменьшение скорости обучения может вызвать необходимость в увеличении количества итераций (iterations). Для нахождения оптимального значения параметра alpha, построим график зависимости ошибки от скорости обучения"
   ]
  },
  {
   "cell_type": "code",
   "execution_count": 14,
   "id": "quick-teach",
   "metadata": {},
   "outputs": [
    {
     "name": "stderr",
     "output_type": "stream",
     "text": [
      "<ipython-input-8-6eea932e2396>:3: RuntimeWarning: divide by zero encountered in log\n",
      "  error = - (np.dot(y, np.nan_to_num(np.log(y_pred), neginf=-1e5)) + np.dot((1.0 - y), np.nan_to_num(np.log(1.0 - y_pred), neginf=-1e5)))\n"
     ]
    },
    {
     "data": {
      "image/png": "[encoded data removed]",
      "text/plain": [
       "<Figure size 1152x432 with 1 Axes>"
      ]
     },
     "metadata": {
      "needs_background": "light"
     },
     "output_type": "display_data"
    }
   ],
   "source": [
    "def get_optimal_params(model, arg_model, kwarg_model, params, upper_steps=1e-4, lower_steps=1e-8):\n",
    "    steps = np.linspace(upper_steps, lower_steps, 100)\n",
    "    errors = [model.__call__(*arg_model, **kwarg_model, **{params: i})[1] for i in steps]\n",
    "    \n",
    "    plt.figure(figsize=(16, 6))\n",
    "    plt.scatter(steps, errors, c='green')\n",
    "    plt.plot(steps, errors, c='orange')\n",
    "    plt.show()\n",
    "\n",
    "get_optimal_params(model=eval_model_impr,\n",
    "                  arg_model=(X, y),\n",
    "                  kwarg_model={'random_seed': 42, \n",
    "                               'metric': calc_logloss_impr},\n",
    "                  params='eta',\n",
    "                  upper_steps=0.81e-5,\n",
    "                  lower_steps=1e-6) \n"
   ]
  },
  {
   "cell_type": "markdown",
   "id": "median-bathroom",
   "metadata": {},
   "source": [
    "Из графика видно, что начиная со значения $\\alpha=0.8\\cdot10^{-5}$ значения ошибки выходит на плато. Построим получившуюся модель"
   ]
  },
  {
   "cell_type": "code",
   "execution_count": 15,
   "id": "dried-forty",
   "metadata": {},
   "outputs": [
    {
     "name": "stderr",
     "output_type": "stream",
     "text": [
      "<ipython-input-8-6eea932e2396>:3: RuntimeWarning: divide by zero encountered in log\n",
      "  error = - (np.dot(y, np.nan_to_num(np.log(y_pred), neginf=-1e5)) + np.dot((1.0 - y), np.nan_to_num(np.log(1.0 - y_pred), neginf=-1e5)))\n"
     ]
    },
    {
     "data": {
      "image/png": "[encoded data removed]",
      "text/plain": [
       "<Figure size 576x432 with 1 Axes>"
      ]
     },
     "metadata": {
      "needs_background": "light"
     },
     "output_type": "display_data"
    }
   ],
   "source": [
    "w, error = eval_model_impr(X, y, eta=0.8e-5, random_seed=42, metric=calc_logloss_impr, visualization=True)"
   ]
  },
  {
   "cell_type": "markdown",
   "id": "split-subject",
   "metadata": {},
   "source": [
    "## 3. Создайте функцию calc_pred_proba, возвращающую предсказанную вероятность класса 1 (на вход подаются W, который уже посчитан функцией eval_model и X, на выходе - массив y_pred_proba)."
   ]
  },
  {
   "cell_type": "code",
   "execution_count": 16,
   "id": "constitutional-gregory",
   "metadata": {},
   "outputs": [
    {
     "data": {
      "text/plain": [
       "(array([0.65930855, 0.5431678 , 0.80744036, 0.60268333, 0.39857199,\n",
       "        0.5173768 , 0.67016982, 0.2299182 , 0.68610937, 0.69520619]),\n",
       " array([0., 0., 1., 0., 1., 0., 1., 0., 1., 1.]))"
      ]
     },
     "execution_count": 16,
     "metadata": {},
     "output_type": "execute_result"
    }
   ],
   "source": [
    "def calc_pred_proba(w, x):\n",
    "    return sigmoid(np.dot(x, w))\n",
    "\n",
    "calc_pred_proba(w, np.array([[1.00e+00, 3.00e+00, 1.45e+03, 2.00e+00],\n",
    "                             [1.00e+00, 5.00e+00, 1.50e+03, 3.00e+00]]))\n",
    "\n",
    "y_pred_proba = calc_pred_proba(w, X)\n",
    "y_pred_proba, y"
   ]
  },
  {
   "cell_type": "markdown",
   "id": "liked-tucson",
   "metadata": {},
   "source": [
    "## 4. Создайте функцию calc_pred, возвращающую предсказанный класс (на вход подаются W, который уже посчитан функцией eval_model и X, на выходе - массив y_pred)."
   ]
  },
  {
   "cell_type": "markdown",
   "id": "bacterial-longitude",
   "metadata": {},
   "source": [
    "Реализуем функцию calc_pred с отказом в принятии решения в пороговом значении "
   ]
  },
  {
   "cell_type": "code",
   "execution_count": 17,
   "id": "hidden-filter",
   "metadata": {},
   "outputs": [
    {
     "name": "stdout",
     "output_type": "stream",
     "text": [
      "0\n",
      "[0. 1.]\n"
     ]
    },
    {
     "data": {
      "text/plain": [
       "(array([1., 1., 1., 1., 0., 1., 1., 0., 1., 1.]),\n",
       " array([0., 0., 1., 0., 1., 0., 1., 0., 1., 1.]))"
      ]
     },
     "execution_count": 17,
     "metadata": {},
     "output_type": "execute_result"
    }
   ],
   "source": [
    "def calc_pred(w, x, threshold=0.5):\n",
    "    if np.ndim(x) == 1: \n",
    "        return 1 if sigmoid(np.dot(x, w)) > threshold else 0\n",
    "    \n",
    "    y_pred = calc_pred_proba(w, x)\n",
    "    y_pred[y_pred > threshold] = 1\n",
    "    y_pred[y_pred < threshold] = 0\n",
    "    y_pred[y_pred == threshold] = np.NAN\n",
    "    return y_pred\n",
    "\n",
    "print(calc_pred(w, np.array([1.00e+00, 3.00e+00, 1.45e+03, 2.00e+00])))\n",
    "print(calc_pred(w, np.array([[1.00e+00, 3.00e+00, 1.45e+03, 2.00e+00],\n",
    "                             [1.00e+00, 5.00e+00, 1.50e+03, 3.00e+00]])))\n",
    "\n",
    "y_pred = calc_pred(w, X)\n",
    "y_pred, y"
   ]
  },
  {
   "cell_type": "markdown",
   "id": "detailed-preference",
   "metadata": {},
   "source": [
    "## 5. Посчитайте Accuracy, матрицу ошибок, точность и полноту, а также F1 score."
   ]
  },
  {
   "cell_type": "markdown",
   "id": "acute-commodity",
   "metadata": {},
   "source": [
    "Начнем accuracy:\n",
    "\n",
    "$$accuracy(a,x) = \\frac{1}{l} \\sum^{l}_{i=1}[a(x_{i})=y_{i}].$$"
   ]
  },
  {
   "cell_type": "code",
   "execution_count": 18,
   "id": "immune-humanitarian",
   "metadata": {},
   "outputs": [
    {
     "data": {
      "text/plain": [
       "0.5"
      ]
     },
     "execution_count": 18,
     "metadata": {},
     "output_type": "execute_result"
    }
   ],
   "source": [
    "def calc_accuracy(y:np.array, y_pred:np.array) -> float:\n",
    "    return y[y == y_pred].shape[0] / y.shape[0]\n",
    "\n",
    "calc_accuracy(y, y_pred)"
   ]
  },
  {
   "cell_type": "markdown",
   "id": "separated-transcription",
   "metadata": {},
   "source": [
    "Матрица ошибок: "
   ]
  },
  {
   "cell_type": "code",
   "execution_count": 19,
   "id": "musical-manufacturer",
   "metadata": {},
   "outputs": [
    {
     "data": {
      "text/html": [
       "<div>\n",
       "<style scoped>\n",
       "    .dataframe tbody tr th:only-of-type {\n",
       "        vertical-align: middle;\n",
       "    }\n",
       "\n",
       "    .dataframe tbody tr th {\n",
       "        vertical-align: top;\n",
       "    }\n",
       "\n",
       "    .dataframe thead th {\n",
       "        text-align: right;\n",
       "    }\n",
       "</style>\n",
       "<table border=\"1\" class=\"dataframe\">\n",
       "  <thead>\n",
       "    <tr style=\"text-align: right;\">\n",
       "      <th></th>\n",
       "      <th>y=+1</th>\n",
       "      <th>y=0</th>\n",
       "    </tr>\n",
       "  </thead>\n",
       "  <tbody>\n",
       "    <tr>\n",
       "      <th>a(x)=1</th>\n",
       "      <td>4</td>\n",
       "      <td>4</td>\n",
       "    </tr>\n",
       "    <tr>\n",
       "      <th>a(x)=0</th>\n",
       "      <td>1</td>\n",
       "      <td>1</td>\n",
       "    </tr>\n",
       "  </tbody>\n",
       "</table>\n",
       "</div>"
      ],
      "text/plain": [
       "        y=+1  y=0\n",
       "a(x)=1     4    4\n",
       "a(x)=0     1    1"
      ]
     },
     "execution_count": 19,
     "metadata": {},
     "output_type": "execute_result"
    }
   ],
   "source": [
    "import pandas as pd\n",
    "\n",
    "def __calc_true_wrong_answer(y, y_pred):\n",
    "    true_answer = y_pred[y == y_pred]\n",
    "    wrong_answer = y_pred[y != y_pred]\n",
    "    TP = true_answer[true_answer == 1].shape[0]\n",
    "    TN = true_answer[true_answer == 0].shape[0]\n",
    "    FP = wrong_answer[wrong_answer == 1].shape[0]\n",
    "    FN = wrong_answer[wrong_answer == 0].shape[0]\n",
    "    return np.array((TP, FP, FN, TN)).reshape((2, 2))\n",
    "\n",
    "def calc_confusion_matrix(y:np.array, y_pred:np.array):\n",
    "    return pd.DataFrame(data=__calc_true_wrong_answer(y, y_pred), index=['a(x)=1', 'a(x)=0'], columns=['y=+1', 'y=0'])\n",
    "\n",
    "calc_confusion_matrix(y, y_pred)"
   ]
  },
  {
   "cell_type": "code",
   "execution_count": 20,
   "id": "induced-census",
   "metadata": {},
   "outputs": [
    {
     "data": {
      "text/plain": [
       "(array([0., 0., 1., 0., 1., 0., 1., 0., 1., 1.]),\n",
       " array([1., 1., 1., 1., 0., 1., 1., 0., 1., 1.]))"
      ]
     },
     "execution_count": 20,
     "metadata": {},
     "output_type": "execute_result"
    }
   ],
   "source": [
    "y, y_pred"
   ]
  },
  {
   "cell_type": "markdown",
   "id": "received-conservation",
   "metadata": {},
   "source": [
    "Точность: \n",
    "$$precision(a, X) = \\frac{TP}{TP+FP}.$$"
   ]
  },
  {
   "cell_type": "code",
   "execution_count": 21,
   "id": "dimensional-approach",
   "metadata": {},
   "outputs": [
    {
     "data": {
      "text/plain": [
       "0.5"
      ]
     },
     "execution_count": 21,
     "metadata": {},
     "output_type": "execute_result"
    }
   ],
   "source": [
    "def calc_precision(y, y_pred):\n",
    "    confusion_matrix_ = __calc_true_wrong_answer(y, y_pred)\n",
    "    return confusion_matrix_[0][0] / (confusion_matrix_[0][0] + confusion_matrix_[0][1])\n",
    "\n",
    "calc_precision(y, y_pred)\n",
    "    "
   ]
  },
  {
   "cell_type": "markdown",
   "id": "legal-fairy",
   "metadata": {},
   "source": [
    "Полнота: \n",
    "$$recall(a, X) = \\frac{TP}{TP+FN},$$"
   ]
  },
  {
   "cell_type": "code",
   "execution_count": 22,
   "id": "toxic-storage",
   "metadata": {},
   "outputs": [
    {
     "data": {
      "text/plain": [
       "0.8"
      ]
     },
     "execution_count": 22,
     "metadata": {},
     "output_type": "execute_result"
    }
   ],
   "source": [
    "def calc_recall(y, y_pred):\n",
    "    confusion_matrix_ = __calc_true_wrong_answer(y, y_pred)\n",
    "    return confusion_matrix_[0][0] / (confusion_matrix_[0][0] + confusion_matrix_[1][0])\n",
    "\n",
    "calc_recall(y, y_pred)"
   ]
  },
  {
   "cell_type": "markdown",
   "id": "essential-video",
   "metadata": {},
   "source": [
    "F1-мера: \n",
    "$$F = \\frac{2 \\cdot precision \\cdot recall }{ presision + recall}.$$"
   ]
  },
  {
   "cell_type": "code",
   "execution_count": 23,
   "id": "demonstrated-seafood",
   "metadata": {
    "scrolled": true
   },
   "outputs": [
    {
     "data": {
      "text/plain": [
       "0.6153846153846154"
      ]
     },
     "execution_count": 23,
     "metadata": {},
     "output_type": "execute_result"
    }
   ],
   "source": [
    "def calc_f1_score(y, y_pred):\n",
    "    return 2 * calc_precision(y, y_pred) * calc_recall(y, y_pred) / (calc_precision(y, y_pred) + calc_recall(y, y_pred)) \n",
    "\n",
    "\n",
    "calc_f1_score(y, y_pred)"
   ]
  },
  {
   "cell_type": "markdown",
   "id": "neural-rings",
   "metadata": {},
   "source": [
    "## 6. Могла ли модель переобучиться? Почему?"
   ]
  },
  {
   "cell_type": "code",
   "execution_count": 24,
   "id": "accessible-peripheral",
   "metadata": {},
   "outputs": [
    {
     "data": {
      "text/plain": [
       "array([ 0.49585582, -0.13998916, -0.00243556,  1.5221283 ])"
      ]
     },
     "execution_count": 24,
     "metadata": {},
     "output_type": "execute_result"
    }
   ],
   "source": [
    "w"
   ]
  },
  {
   "cell_type": "markdown",
   "id": "gross-maple",
   "metadata": {},
   "source": [
    "Судя по метрике и величине весов, переобучения нет. Но модель склонная к переобучению т.к. граница принятия решения соответствует $a(x)=0.5$, что кажется разумным. Распишем данное условие по определению:\n",
    "\n",
    "$$a(x)=\\sigma(\\vec{w}^TX)=\\frac{1}{1+e^{-\\vec{w}^TX}}=0.5$$\n",
    "\n",
    "Такое возможно, если\n",
    "\n",
    "$$e^{-\\vec{w}^TX}=1$$\n",
    "\n",
    "$$-\\vec{w}^TX=0$$\n",
    "\n",
    "Таким образом скалярное произведение равно 0. Из этого следует, что вектора перпендикулярны, а значит нет ограничений на норму вектора (длину) и, следовательно, вектор может принимать любые значения, в том числе и бесконечно большие"
   ]
  },
  {
   "cell_type": "markdown",
   "id": "occasional-imagination",
   "metadata": {},
   "source": [
    "## 7*. Создайте функции eval_model_l1 и eval_model_l2 с применением L1 и L2 регуляризаций соответственно."
   ]
  },
  {
   "cell_type": "markdown",
   "id": "developed-console",
   "metadata": {},
   "source": [
    "Обновим функцию calc_loglos_impr для возможности работать с регуляризацие. Функция loglos с регуляризацие Ridge имеет вид:\n",
    "\n",
    "$$-\\text{ln}L(X) = -\\sum^{l}_{i=1}([y_{i} = +1] \\text{ln}\\frac{1}{1 + exp(-\\left \\langle w,x_{i} \\right \\rangle)}) + [y_{i} = -1]\\text{ln}(1 - \\frac{1}{1 + exp(-\\left \\langle w,x_{i} \\right \\rangle)}) + \\lambda||w||^2$$\n",
    "\n",
    "loglos с регуляризацие Lasso имеет вид:\n",
    "\n",
    "$$-\\text{ln}L(X) = -\\sum^{l}_{i=1}([y_{i} = +1] \\text{ln}\\frac{1}{1 + exp(-\\left \\langle w,x_{i} \\right \\rangle)}) + [y_{i} = -1]\\text{ln}(1 - \\frac{1}{1 + exp(-\\left \\langle w,x_{i} \\right \\rangle)}) + \\lambda||w||$$"
   ]
  },
  {
   "cell_type": "code",
   "execution_count": 25,
   "id": "appointed-japanese",
   "metadata": {},
   "outputs": [],
   "source": [
    "def calc_logloss_impr(y, y_pred, lambda_, weights, regularization=None):\n",
    "    \"\"\"\n",
    "    regularization: отвечает за регуляризацию. Может принимать значения None, Ridge, Lasso\n",
    "    \"\"\"\n",
    "    y_pred = np.array(y_pred, dtype=float)\n",
    "    error = - (np.dot(y, np.nan_to_num(np.log(y_pred), neginf=-1e5)) + np.dot((1.0 - y), np.nan_to_num(np.log(1.0 - y_pred), neginf=-1e5)))\n",
    "    \n",
    "    if regularization == 'Ridge':\n",
    "        error += lambda_ * np.linalg.norm(weights, ord=2)\n",
    "    \n",
    "    if regularization == 'Lasso':\n",
    "        error += lambda_ * np.sum(np.abs(weights))\n",
    "    \n",
    "    return error\n"
   ]
  },
  {
   "cell_type": "markdown",
   "id": "challenging-deployment",
   "metadata": {},
   "source": [
    "Создадим одну функцию с возможность выбора способа регуляризации. Для это нужно переписть градиентный спуск ввиде: \n",
    "\n",
    "$$\\vec{w_{new}} = \\vec{w_{old}} - \\eta( \\sum_{n=1}^N (y_n - \\vec{w}^TX)X + 2\\lambda \\vec{w_{old}}).$$\n",
    "\n",
    "Для регуляризации типа Ridge и \n",
    "\n",
    "$$\\vec{w_{new}} = \\vec{w_{old}} - \\eta( \\sum_{n=1}^N (y_n - \\vec{w}^TX)X + \\lambda).$$"
   ]
  },
  {
   "cell_type": "code",
   "execution_count": 26,
   "id": "labeled-darwin",
   "metadata": {},
   "outputs": [],
   "source": [
    "def eval_model_impr(X, y, \n",
    "                    iterations=5000, \n",
    "#                     alpha=1e-4, \n",
    "                    random_seed=17,\n",
    "                    epsilon=1e-5, \n",
    "                    metric=calc_logloss_impr, \n",
    "                    visualization=False, \n",
    "                    speed_divider=5, \n",
    "                    eta=0.1, \n",
    "                    regularization = None, \n",
    "                    lambda_=0):\n",
    "    \"\"\"\n",
    "    regularization: отвечает за регуляризацию. Может принимать значения None, Ridge, Lasso\n",
    "    \"\"\"\n",
    "    \n",
    "    np.random.seed(random_seed)\n",
    "    W_new = np.random.randn(X.shape[1])\n",
    "    n = X.shape[0]\n",
    "    err_list = list()\n",
    "    regular = 0\n",
    "        \n",
    "    for i in range(1, iterations+1):\n",
    "        W_old = W_new\n",
    "        z = np.dot(X, W_old)\n",
    "        y_pred = sigmoid(z)\n",
    "        \n",
    "        if regularization == 'Ridge':\n",
    "            W_new = W_old - eta * 1 / n * (np.dot((y_pred - y), X) + 2 * lambda_ * W_old)\n",
    "        if regularization == 'Lasso':\n",
    "            W_new = W_old - eta * 1 / n * (np.dot((y_pred - y), X) + lambda_ )\n",
    "        if not regularization:\n",
    "            W_new = W_old - eta * (1 / n * np.dot((y_pred - y), X))\n",
    "            \n",
    "        err_list.append(metric(y, y_pred, lambda_, W_new, regularization))\n",
    "        \n",
    "        if i > 2:\n",
    "            if np.linalg.norm(W_new - W_old) < epsilon:\n",
    "                break\n",
    "                \n",
    "    min_error = metric(y, sigmoid(np.dot(X, W_new)), lambda_, W_new, regularization)\n",
    "    if visualization:\n",
    "        steps = np.linspace(1, len(err_list)+1, len(err_list))\n",
    "        plt.figure(figsize=(8,6))\n",
    "        plt.scatter(steps, err_list, c='green')\n",
    "        plt.plot(steps, err_list, c='orange')\n",
    "        plt.xlabel('Steps')\n",
    "        plt.ylabel('Error')\n",
    "        plt.title(f'Min error is {min_error}')\n",
    "        plt.show()\n",
    "            \n",
    "    return W_new, err_list"
   ]
  },
  {
   "cell_type": "code",
   "execution_count": 27,
   "id": "parental-tuesday",
   "metadata": {},
   "outputs": [
    {
     "name": "stderr",
     "output_type": "stream",
     "text": [
      "<ipython-input-25-ac1802ac554d>:6: RuntimeWarning: divide by zero encountered in log\n",
      "  error = - (np.dot(y, np.nan_to_num(np.log(y_pred), neginf=-1e5)) + np.dot((1.0 - y), np.nan_to_num(np.log(1.0 - y_pred), neginf=-1e5)))\n"
     ]
    },
    {
     "data": {
      "image/png": "[encoded data removed]",
      "text/plain": [
       "<Figure size 1152x432 with 1 Axes>"
      ]
     },
     "metadata": {
      "needs_background": "light"
     },
     "output_type": "display_data"
    },
    {
     "data": {
      "image/png": "[encoded data removed]",
      "text/plain": [
       "<Figure size 1152x432 with 1 Axes>"
      ]
     },
     "metadata": {
      "needs_background": "light"
     },
     "output_type": "display_data"
    },
    {
     "data": {
      "image/png": "[encoded data removed]",
      "text/plain": [
       "<Figure size 1152x432 with 1 Axes>"
      ]
     },
     "metadata": {
      "needs_background": "light"
     },
     "output_type": "display_data"
    }
   ],
   "source": [
    "def make_fig(value, colors=('green', 'orange'), labels=('Steps', 'Error')):\n",
    "    steps = np.linspace(1, len(value) + 1, len(value))\n",
    "    plt.figure(figsize=(16, 6))\n",
    "    plt.scatter(steps, value, c=colors[0])\n",
    "    plt.plot(steps, value, c=colors[1])\n",
    "    plt.xlabel(labels[0])\n",
    "    plt.ylabel(labels[1])\n",
    "    \n",
    "w, error_list = eval_model_impr(X, y, eta=0.8e-5, random_seed=42, metric=calc_logloss_impr)\n",
    "w_l2, error_list_l2 = eval_model_impr(X, y, eta=0.8e-5, random_seed=42, metric=calc_logloss_impr, regularization='Ridge', lambda_=0.3)\n",
    "w_l1, error_list_l1 = eval_model_impr(X, y, eta=0.8e-5, random_seed=42, metric=calc_logloss_impr, regularization='Lasso', lambda_=0.3)\n",
    "\n",
    "make_fig(error_list)\n",
    "plt.title(f'Linear Classification without regularization. Min error is {error_list[-1]}')\n",
    "\n",
    "make_fig(error_list_l2)\n",
    "plt.title(f'Linear Classification with Ridge regularization. Min error is {error_list_l2[-1]}')\n",
    "\n",
    "make_fig(error_list_l2)\n",
    "plt.title(f'Linear Classification with Lasso regularization. Min error is {error_list_l1[-1]}')\n",
    "\n",
    "plt.show()"
   ]
  },
  {
   "cell_type": "code",
   "execution_count": null,
   "id": "appreciated-acrobat",
   "metadata": {},
   "outputs": [],
   "source": []
  }
 ],
 "metadata": {
  "kernelspec": {
   "display_name": "Python 3",
   "language": "python",
   "name": "python3"
  },
  "language_info": {
   "codemirror_mode": {
    "name": "ipython",
    "version": 3
   },
   "file_extension": ".py",
   "mimetype": "text/x-python",
   "name": "python",
   "nbconvert_exporter": "python",
   "pygments_lexer": "ipython3",
   "version": "3.8.5"
  },
  "nbTranslate": {
   "displayLangs": [
    "*"
   ],
   "hotkey": "alt-t",
   "langInMainMenu": true,
   "sourceLang": "en",
   "targetLang": "fr",
   "useGoogleTranslate": true
  }
 },
 "nbformat": 4,
 "nbformat_minor": 5
}
