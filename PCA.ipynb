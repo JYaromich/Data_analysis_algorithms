{
 "cells": [
  {
   "cell_type": "markdown",
   "id": "protective-hardware",
   "metadata": {},
   "source": [
    "# Домашняя работа (метода снижения размерности)"
   ]
  },
  {
   "cell_type": "markdown",
   "id": "passing-glenn",
   "metadata": {},
   "source": [
    "### Задание №1. Можно ли отобрать наиболее значимые признаки с помощью PCA?"
   ]
  },
  {
   "cell_type": "markdown",
   "id": "binary-recycling",
   "metadata": {},
   "source": [
    "Да можно. Используя метод PCA мы вычисляем собственные значения матрицы ковариации исходных данных. Из математики известно, что чем больше собственное значение, тем больше данные распределены вдоль выбранной оси. Отбрасывая оси с малыми собственными значениями мы уменьшаем размерность исходных данных при минимальной потере информации"
   ]
  },
  {
   "cell_type": "markdown",
   "id": "transparent-contractor",
   "metadata": {},
   "source": [
    "![Image of PCA](https://upload.wikimedia.org/wikipedia/commons/f/f5/GaussianScatterPCA.svg)"
   ]
  },
  {
   "cell_type": "markdown",
   "id": "biblical-affect",
   "metadata": {},
   "source": [
    "### Задание №2. Написать свою реализацию метода главных компонент с помощью сингулярного разложения с использованием функции numpy.linalg.svd()"
   ]
  },
  {
   "cell_type": "code",
   "execution_count": 1,
   "id": "improved-indicator",
   "metadata": {},
   "outputs": [],
   "source": [
    "import numpy as np\n",
    "\n",
    "from sklearn.datasets import load_iris\n",
    "from standardization import standardization"
   ]
  },
  {
   "cell_type": "code",
   "execution_count": 2,
   "id": "above-binary",
   "metadata": {
    "code_folding": [
     0,
     12
    ]
   },
   "outputs": [],
   "source": [
    "def lose_information(eig_values: np.array, final_dimension: int):\n",
    "    \"\"\"\n",
    "    Метод для подсчета потеряной информации после PCA преобразования\n",
    "    \n",
    "    :param eig_values: Вектор собственных значений\n",
    "    :param final_dimension: Значение размерности после преобразования\n",
    "    :return: Процент потеряной информации\n",
    "    \"\"\"\n",
    "    eig_sum = sum(eig_values)\n",
    "    return round(100 - sum([(i / eig_sum) * 100 for i in sorted(eig_values, reverse=True)][:final_dimension]), 2)\n",
    "\n",
    "\n",
    "def pca(data: np.array, final_dimension: int = 2, method='svd'):\n",
    "    \"\"\"\n",
    "    Метод для уменьшения размерности при помощи PCA\n",
    "    \n",
    "    :param data: Исходный массив данных\n",
    "    :param final_dimension: Значение размерности после преобразования\n",
    "    :param method: Метод используемый для преобразования. По-умалчанию svd\n",
    "    :return: возвращает преобразованный массив данных и количество потеряной информации в %\n",
    "    \"\"\"\n",
    "    if method == 'svd':\n",
    "        u, s, vh = np.linalg.svd(data)\n",
    "        w = vh[:, :final_dimension]\n",
    "        return data.dot(w), lose_information(s, final_dimension)"
   ]
  },
  {
   "cell_type": "code",
   "execution_count": 4,
   "id": "acoustic-perspective",
   "metadata": {},
   "outputs": [
    {
     "name": "stdout",
     "output_type": "stream",
     "text": [
      "I lose 4.51% of full information\n"
     ]
    }
   ],
   "source": [
    "iris = load_iris()\n",
    "\n",
    "data = iris['data']\n",
    "target = iris['target']\n",
    "\n",
    "data = standardization(data)\n",
    "\n",
    "data, lose_percent = pca(data, 3)\n",
    "print(f'I lose {lose_percent}% of full information')"
   ]
  },
  {
   "cell_type": "markdown",
   "id": "bulgarian-subcommittee",
   "metadata": {},
   "source": [
    "### Задание №3. Обучить любую модель классификации на датасете IRIS до применения PCA и после него. Сравнить качество классификации по отложенной выборке."
   ]
  },
  {
   "cell_type": "code",
   "execution_count": 5,
   "id": "assumed-pakistan",
   "metadata": {},
   "outputs": [],
   "source": [
    "from KNN import KNNClassifier\n",
    "from metrics import Metrics\n",
    "from sklearn import model_selection"
   ]
  },
  {
   "cell_type": "code",
   "execution_count": 6,
   "id": "separate-process",
   "metadata": {},
   "outputs": [],
   "source": [
    "X, y = load_iris(return_X_y=True)\n",
    "X_train_full, X_test_full, y_train_full, y_test_full = model_selection.train_test_split(X, y, test_size=0.2, random_state=1)\n",
    "X_train_pca, X_test_pca, y_train_pca, y_test_pca = model_selection.train_test_split(data, y, test_size=0.2, random_state=1)"
   ]
  },
  {
   "cell_type": "code",
   "execution_count": 9,
   "id": "floral-dutch",
   "metadata": {},
   "outputs": [
    {
     "name": "stdout",
     "output_type": "stream",
     "text": [
      "Accuracy is 1.0 for full data\n",
      "Accuracy is 0.97 for PCA data\n"
     ]
    }
   ],
   "source": [
    "X_train = [X_train_full, X_train_pca]\n",
    "y_train = y_train_full\n",
    "X_test = [X_test_full, X_test_pca]\n",
    "y_test = y_test_full\n",
    "description = [' for full data', ' for PCA data']\n",
    "\n",
    "for i in range(len(X_train)):\n",
    "    model = KNNClassifier()\n",
    "    model.fit(X_train[i], y_train)\n",
    "    print(f'Accuracy is {round(Metrics.accuracy(y_test, model.predict(X_test[i])), 2)}' + description[i])"
   ]
  },
  {
   "cell_type": "markdown",
   "id": "emotional-comedy",
   "metadata": {},
   "source": [
    "Видно, что метрика accuracy немного упала, на 0.03%, если быть точным, однако мы уменьшили размерность исходного пространства на 1"
   ]
  }
 ],
 "metadata": {
  "kernelspec": {
   "display_name": "Python 3",
   "language": "python",
   "name": "python3"
  },
  "language_info": {
   "codemirror_mode": {
    "name": "ipython",
    "version": 3
   },
   "file_extension": ".py",
   "mimetype": "text/x-python",
   "name": "python",
   "nbconvert_exporter": "python",
   "pygments_lexer": "ipython3",
   "version": "3.8.5"
  },
  "nbTranslate": {
   "displayLangs": [
    "*"
   ],
   "hotkey": "alt-t",
   "langInMainMenu": true,
   "sourceLang": "en",
   "targetLang": "fr",
   "useGoogleTranslate": true
  }
 },
 "nbformat": 4,
 "nbformat_minor": 5
}
